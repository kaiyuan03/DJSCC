{
 "cells": [
  {
   "cell_type": "code",
   "execution_count": 2,
   "metadata": {},
   "outputs": [],
   "source": [
    "import pickle\n",
    "from matplotlib import pyplot as plt\n",
    "import numpy as np"
   ]
  },
  {
   "cell_type": "code",
   "execution_count": 3,
   "metadata": {},
   "outputs": [
    {
     "name": "stdout",
     "output_type": "stream",
     "text": [
      "[0.02996135 0.00208959 0.00098115 0.00086111 0.00082293 0.00534764\n",
      " 0.00106675 0.00080784 0.000778   0.00076738]\n",
      "[-1.8976381154443158, -2.8259375028630713, -3.050470184738629, -3.086981354551723, -3.0998150007272045]\n"
     ]
    }
   ],
   "source": [
    "with open(\"../evalresults/Kodak_evalres_2024_07_01_11_33_46.pkl\",\"rb\") as f:\n",
    "    djscc_res = pickle.load(f)\n",
    "model_res = djscc_res['model_snrdb_20_bwr_0.051_2024_06_29_00_58_38.pth.tar']\n",
    "model_mses = model_res['mse']\n",
    "\n",
    "model_mses = np.array(model_mses)\n",
    "print(model_mses)\n",
    "djl = np.log10(np.reshape(model_mses,(2,-1)))\n",
    "weight = np.array([0.5,0.5])\n",
    "sumdjl = weight@djl\n",
    "print(sumdjl.tolist())"
   ]
  }
 ],
 "metadata": {
  "kernelspec": {
   "display_name": "kaiyuan_py",
   "language": "python",
   "name": "python3"
  },
  "language_info": {
   "codemirror_mode": {
    "name": "ipython",
    "version": 3
   },
   "file_extension": ".py",
   "mimetype": "text/x-python",
   "name": "python",
   "nbconvert_exporter": "python",
   "pygments_lexer": "ipython3",
   "version": "3.7.15"
  }
 },
 "nbformat": 4,
 "nbformat_minor": 2
}
