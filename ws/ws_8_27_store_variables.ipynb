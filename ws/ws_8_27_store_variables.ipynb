{
 "cells": [
  {
   "cell_type": "code",
   "execution_count": 2,
   "metadata": {},
   "outputs": [
    {
     "data": {
      "text/plain": [
       "{'var1': 10, 'var2': 'hello', 'var3': [1, 2, 3]}"
      ]
     },
     "execution_count": 2,
     "metadata": {},
     "output_type": "execute_result"
    }
   ],
   "source": [
    "# import inspect\n",
    "# def capture_args(*args):\n",
    "#     frame = inspect.currentframe().f_back\n",
    "#     caller_locals = frame.f_locals\n",
    "#     captured_vars = {}\n",
    "#     for arg in args:\n",
    "#         for var_name, var_value in caller_locals.items():\n",
    "#             print(var_name)\n",
    "#             if var_value is arg:\n",
    "#                 captured_vars[var_name] = var_value\n",
    "#     return captured_vars\n",
    "from kaijsra.utils import capture_args\n",
    "var1 = 10\n",
    "var2 = 'hello'\n",
    "var3 = [1,2,3]\n",
    "capture_args(var1,var2,var3)"
   ]
  },
  {
   "cell_type": "code",
   "execution_count": 9,
   "metadata": {},
   "outputs": [
    {
     "data": {
      "text/plain": [
       "-3.140809802515239"
      ]
     },
     "execution_count": 9,
     "metadata": {},
     "output_type": "execute_result"
    }
   ],
   "source": [
    "model_name = 'model_snrdb_-3.140809802515239_bwr_0.051_2024_08_26_09_20_54.pth.tar'\n",
    "def parse_snrdb(model_name):\n",
    "    print(model_name)\n",
    "    start = model_name.index('snrdb_')+len('snrdb_')\n",
    "    end = model_name.index('_bwr')\n",
    "    snrdb = float(model_name[start:end])\n",
    "    return snrdb"
   ]
  }
 ],
 "metadata": {
  "kernelspec": {
   "display_name": "kaiyuan_py",
   "language": "python",
   "name": "python3"
  },
  "language_info": {
   "codemirror_mode": {
    "name": "ipython",
    "version": 3
   },
   "file_extension": ".py",
   "mimetype": "text/x-python",
   "name": "python",
   "nbconvert_exporter": "python",
   "pygments_lexer": "ipython3",
   "version": "3.7.15"
  }
 },
 "nbformat": 4,
 "nbformat_minor": 2
}
