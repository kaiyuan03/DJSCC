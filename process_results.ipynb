{
 "cells": [
  {
   "cell_type": "code",
   "execution_count": 8,
   "metadata": {},
   "outputs": [],
   "source": [
    "import pickle\n",
    "import pandas as pd\n",
    "import numpy as np"
   ]
  },
  {
   "cell_type": "code",
   "execution_count": null,
   "metadata": {},
   "outputs": [],
   "source": []
  },
  {
   "cell_type": "code",
   "execution_count": 22,
   "metadata": {},
   "outputs": [
    {
     "data": {
      "text/plain": [
       "{'test_snrdbs': [2, 5, 7, 10, 12],\n",
       " 'channel': 1,\n",
       " 'dataset': 'CLIC',\n",
       " 'model_snrdb_2_bwr_0.062_2024_08_21_07_06_29.pth.tar': defaultdict(list,\n",
       "             {'mse': [0.0014316662563942373,\n",
       "               0.001344563421298517,\n",
       "               0.001414294018225822,\n",
       "               0.001510181535316709,\n",
       "               0.0015531482213797668],\n",
       "              'psnr': [28.44158211008102,\n",
       "               28.714187078546814,\n",
       "               28.494602954759536,\n",
       "               28.20970844066065,\n",
       "               28.08787096328334],\n",
       "              'ssim': [0.9398305694262187,\n",
       "               0.9393125613530476,\n",
       "               0.9350538452466329,\n",
       "               0.9304445465405782,\n",
       "               0.928609644373258],\n",
       "              'psnr1': [29.936152880561302,\n",
       "               30.221509791004276,\n",
       "               30.02749127070773,\n",
       "               29.770601886839376,\n",
       "               29.65913474984573]}),\n",
       " 'model_snrdb_5_bwr_0.062_2024_08_21_07_03_40.pth.tar': defaultdict(list,\n",
       "             {'mse': [0.002405907686625142,\n",
       "               0.0010300410963585212,\n",
       "               0.0009311620528023923,\n",
       "               0.0009305519388969212,\n",
       "               0.0009472039820442054],\n",
       "              'psnr': [26.187210403205444,\n",
       "               29.87145447561157,\n",
       "               30.30974730926925,\n",
       "               30.312593816446466,\n",
       "               30.235564848439278],\n",
       "              'ssim': [0.8655795921881994,\n",
       "               0.9575504839420319,\n",
       "               0.9604181220134099,\n",
       "               0.9587662398815155,\n",
       "               0.9575371742248535],\n",
       "              'psnr1': [27.458221543716963,\n",
       "               31.363338584682598,\n",
       "               31.817793075572823,\n",
       "               31.85261428258288,\n",
       "               31.794649523906553]}),\n",
       " 'model_snrdb_7_bwr_0.062_2024_08_21_03_57_23.pth.tar': defaultdict(list,\n",
       "             {'mse': [0.003492629702668637,\n",
       "               0.0011695199721240594,\n",
       "               0.0008338623173282637,\n",
       "               0.0007209160345761726,\n",
       "               0.0007056465993324916],\n",
       "              'psnr': [24.56847456908171,\n",
       "               29.319923572586685,\n",
       "               30.789056517133528,\n",
       "               31.421153148141997,\n",
       "               31.514127470872403],\n",
       "              'ssim': [0.8193859616915385,\n",
       "               0.9431068589289983,\n",
       "               0.9665325105190277,\n",
       "               0.9710421254237492,\n",
       "               0.9711603264013926],\n",
       "              'psnr1': [25.790238867284703,\n",
       "               30.757524861455906,\n",
       "               32.298739216403156,\n",
       "               32.93156352894812,\n",
       "               33.02223608998922]}),\n",
       " 'model_snrdb_10_bwr_0.062_2024_01_21_16_58_29.pth.tar': defaultdict(list,\n",
       "             {'mse': [0.004220053479851534,\n",
       "               0.0016299483223216763,\n",
       "               0.0010116154376495008,\n",
       "               0.0006815380882471799,\n",
       "               0.0006015400551405037],\n",
       "              'psnr': [23.746820452806855,\n",
       "               27.878261647287502,\n",
       "               29.94984551772438,\n",
       "               31.665098682910102,\n",
       "               32.20735448710987],\n",
       "              'ssim': [0.7893913567066193,\n",
       "               0.9099801143010458,\n",
       "               0.9522224267323812,\n",
       "               0.9743439108133316,\n",
       "               0.9782861431439718],\n",
       "              'psnr1': [24.81117301793029,\n",
       "               29.185509424914002,\n",
       "               31.373988079173607,\n",
       "               33.18249051648865,\n",
       "               33.7593178166354]}),\n",
       " 'model_snrdb_12_bwr_0.062_2024_08_21_06_59_49.pth.tar': defaultdict(list,\n",
       "             {'mse': [0.004897702355325843,\n",
       "               0.0018077758698685404,\n",
       "               0.001069968840117023,\n",
       "               0.0006382082027509265,\n",
       "               0.0005277445032940401],\n",
       "              'psnr': [23.10007611487204,\n",
       "               27.428554148524363,\n",
       "               29.706288697561746,\n",
       "               31.950376182143195,\n",
       "               32.77576281377007],\n",
       "              'ssim': [0.7731947163740794,\n",
       "               0.9004998912413915,\n",
       "               0.9459581087032954,\n",
       "               0.9752286404371262,\n",
       "               0.9815802882115047],\n",
       "              'psnr1': [24.16886194068937,\n",
       "               28.698442524167003,\n",
       "               31.080885247425467,\n",
       "               33.47198676002339,\n",
       "               34.3658643525056]})}"
      ]
     },
     "execution_count": 22,
     "metadata": {},
     "output_type": "execute_result"
    }
   ],
   "source": [
    "with open(\"./evalresults/CLIC_evalres_2024_08_21_23_18_14.pkl\",\"rb\") as f:\n",
    "    data = pickle.load(f)\n",
    "data"
   ]
  },
  {
   "cell_type": "code",
   "execution_count": 16,
   "metadata": {},
   "outputs": [],
   "source": [
    "# plot performances to get a brief view\n",
    "model_name = 'model_snrdb_5_bwr_0.062_2024_08_21_07_03_40.pth.tar'\n",
    "model_data = data[model_name]\n",
    "psnr = model_data['psnr1']\n",
    "ssim = model_data['ssim']\n",
    "df = pd.DataFrame([psnr,ssim])\n",
    "df = df.T\n",
    "df.to_excel(\"tmp.xlsx\")"
   ]
  },
  {
   "cell_type": "code",
   "execution_count": 23,
   "metadata": {},
   "outputs": [],
   "source": [
    "model_names = filter(lambda x: x.startswith(\"model\"),list(data.keys()))\n",
    "psnr = []\n",
    "ssim = []\n",
    "for model_name in model_names:\n",
    "    psnr += data[model_name]['psnr1']\n",
    "    ssim += data[model_name]['ssim']\n",
    "df = pd.DataFrame([psnr,ssim])\n",
    "df = df.T\n",
    "df.to_excel(\"tmp.xlsx\")"
   ]
  },
  {
   "cell_type": "code",
   "execution_count": 5,
   "metadata": {},
   "outputs": [
    {
     "data": {
      "text/plain": [
       "' -1.23'"
      ]
     },
     "execution_count": 5,
     "metadata": {},
     "output_type": "execute_result"
    }
   ],
   "source": [
    "a = -1.2312\n",
    "f\"{a:6.2f}\""
   ]
  }
 ],
 "metadata": {
  "kernelspec": {
   "display_name": "kaiyuan_py",
   "language": "python",
   "name": "python3"
  },
  "language_info": {
   "codemirror_mode": {
    "name": "ipython",
    "version": 3
   },
   "file_extension": ".py",
   "mimetype": "text/x-python",
   "name": "python",
   "nbconvert_exporter": "python",
   "pygments_lexer": "ipython3",
   "version": "3.7.15"
  }
 },
 "nbformat": 4,
 "nbformat_minor": 2
}
